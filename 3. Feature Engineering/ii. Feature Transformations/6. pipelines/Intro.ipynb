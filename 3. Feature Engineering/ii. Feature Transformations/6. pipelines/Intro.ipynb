{
 "cells": [
  {
   "cell_type": "markdown",
   "id": "3d701b87",
   "metadata": {},
   "source": [
    "# Scikit Learn Pipelines:\n",
    "Pipelines is a mechanism which chains together multiple steps so that the output of each step is used as input to the next step.\n",
    "    \n",
    "    \n",
    "pipelines makes it easy to apply the same preprocessing to train and test."
   ]
  },
  {
   "cell_type": "code",
   "execution_count": null,
   "id": "4fd94256",
   "metadata": {},
   "outputs": [],
   "source": []
  }
 ],
 "metadata": {
  "kernelspec": {
   "display_name": "Python 3 (ipykernel)",
   "language": "python",
   "name": "python3"
  },
  "language_info": {
   "codemirror_mode": {
    "name": "ipython",
    "version": 3
   },
   "file_extension": ".py",
   "mimetype": "text/x-python",
   "name": "python",
   "nbconvert_exporter": "python",
   "pygments_lexer": "ipython3",
   "version": "3.10.9"
  }
 },
 "nbformat": 4,
 "nbformat_minor": 5
}
